{
  "nbformat": 4,
  "nbformat_minor": 0,
  "metadata": {
    "colab": {
      "name": "DownloadData.ipynb",
      "provenance": [],
      "collapsed_sections": [],
      "authorship_tag": "ABX9TyP3+E16hSkNgg5FIzRH/N+3",
      "include_colab_link": true
    },
    "kernelspec": {
      "name": "python3",
      "display_name": "Python 3"
    },
    "language_info": {
      "name": "python"
    }
  },
  "cells": [
    {
      "cell_type": "markdown",
      "metadata": {
        "id": "view-in-github",
        "colab_type": "text"
      },
      "source": [
        "<a href=\"https://colab.research.google.com/github/james-a-mcmanus/CropClassification/blob/DescribingData/DownloadData.ipynb\" target=\"_parent\"><img src=\"https://colab.research.google.com/assets/colab-badge.svg\" alt=\"Open In Colab\"/></a>"
      ]
    },
    {
      "cell_type": "code",
      "metadata": {
        "colab": {
          "base_uri": "https://localhost:8080/",
          "height": 644
        },
        "id": "LxKAUaqi8i3H",
        "outputId": "7997d055-0b49-4ef0-d01d-db08f80f3c01"
      },
      "source": [
        "pip install radiant-mlhub"
      ],
      "execution_count": null,
      "outputs": [
        {
          "output_type": "stream",
          "text": [
            "Collecting radiant-mlhub\n",
            "  Downloading radiant_mlhub-0.2.2-py3-none-any.whl (26 kB)\n",
            "Collecting pystac==0.5.4\n",
            "  Downloading pystac-0.5.4-py3-none-any.whl (133 kB)\n",
            "\u001b[K     |████████████████████████████████| 133 kB 7.4 MB/s \n",
            "\u001b[?25hRequirement already satisfied: click~=7.1.2 in /usr/local/lib/python3.7/dist-packages (from radiant-mlhub) (7.1.2)\n",
            "Collecting tqdm~=4.56.0\n",
            "  Downloading tqdm-4.56.2-py2.py3-none-any.whl (72 kB)\n",
            "\u001b[K     |████████████████████████████████| 72 kB 593 kB/s \n",
            "\u001b[?25hCollecting requests~=2.25.1\n",
            "  Downloading requests-2.25.1-py2.py3-none-any.whl (61 kB)\n",
            "\u001b[K     |████████████████████████████████| 61 kB 5.8 MB/s \n",
            "\u001b[?25hRequirement already satisfied: python-dateutil>=2.7.0 in /usr/local/lib/python3.7/dist-packages (from pystac==0.5.4->radiant-mlhub) (2.8.1)\n",
            "Requirement already satisfied: six>=1.5 in /usr/local/lib/python3.7/dist-packages (from python-dateutil>=2.7.0->pystac==0.5.4->radiant-mlhub) (1.15.0)\n",
            "Requirement already satisfied: idna<3,>=2.5 in /usr/local/lib/python3.7/dist-packages (from requests~=2.25.1->radiant-mlhub) (2.10)\n",
            "Requirement already satisfied: certifi>=2017.4.17 in /usr/local/lib/python3.7/dist-packages (from requests~=2.25.1->radiant-mlhub) (2021.5.30)\n",
            "Requirement already satisfied: chardet<5,>=3.0.2 in /usr/local/lib/python3.7/dist-packages (from requests~=2.25.1->radiant-mlhub) (3.0.4)\n",
            "Requirement already satisfied: urllib3<1.27,>=1.21.1 in /usr/local/lib/python3.7/dist-packages (from requests~=2.25.1->radiant-mlhub) (1.24.3)\n",
            "Installing collected packages: tqdm, requests, pystac, radiant-mlhub\n",
            "  Attempting uninstall: tqdm\n",
            "    Found existing installation: tqdm 4.41.1\n",
            "    Uninstalling tqdm-4.41.1:\n",
            "      Successfully uninstalled tqdm-4.41.1\n",
            "  Attempting uninstall: requests\n",
            "    Found existing installation: requests 2.23.0\n",
            "    Uninstalling requests-2.23.0:\n",
            "      Successfully uninstalled requests-2.23.0\n",
            "\u001b[31mERROR: pip's dependency resolver does not currently take into account all the packages that are installed. This behaviour is the source of the following dependency conflicts.\n",
            "google-colab 1.0.0 requires requests~=2.23.0, but you have requests 2.25.1 which is incompatible.\n",
            "datascience 0.10.6 requires folium==0.2.1, but you have folium 0.8.3 which is incompatible.\u001b[0m\n",
            "Successfully installed pystac-0.5.4 radiant-mlhub-0.2.2 requests-2.25.1 tqdm-4.56.2\n"
          ],
          "name": "stdout"
        },
        {
          "output_type": "display_data",
          "data": {
            "application/vnd.colab-display-data+json": {
              "pip_warning": {
                "packages": [
                  "requests",
                  "tqdm"
                ]
              }
            }
          },
          "metadata": {
            "tags": []
          }
        }
      ]
    },
    {
      "cell_type": "markdown",
      "metadata": {
        "id": "XRw0l4irFeoU"
      },
      "source": [
        "Import what the mlhub package, plus os for setting the API Key"
      ]
    },
    {
      "cell_type": "code",
      "metadata": {
        "id": "c2avkGr99LRd"
      },
      "source": [
        "from radiant_mlhub import Dataset, Collection"
      ],
      "execution_count": null,
      "outputs": []
    },
    {
      "cell_type": "code",
      "metadata": {
        "id": "xESnQFuH9c3R"
      },
      "source": [
        "import os"
      ],
      "execution_count": null,
      "outputs": []
    },
    {
      "cell_type": "code",
      "metadata": {
        "id": "SnZmMHqu-cet"
      },
      "source": [
        "os.environ['MLHUB_API_KEY'] = 'a4f6f8e8747aedacd4ad7a4ab24608fce2a1fc975416fb6207887c356eb1a0a7'"
      ],
      "execution_count": null,
      "outputs": []
    },
    {
      "cell_type": "markdown",
      "metadata": {
        "id": "vZxpoauKFmkR"
      },
      "source": [
        "Mount my google drive so we can save the data to it."
      ]
    },
    {
      "cell_type": "code",
      "metadata": {
        "colab": {
          "base_uri": "https://localhost:8080/"
        },
        "id": "2ZVd122b9KmJ",
        "outputId": "fec9bf47-2e29-4784-cc2b-9591677e9ad3"
      },
      "source": [
        "from google.colab import drive\n",
        "drive.mount(\"/content/gdrive/\")"
      ],
      "execution_count": null,
      "outputs": [
        {
          "output_type": "stream",
          "text": [
            "Drive already mounted at /content/gdrive/; to attempt to forcibly remount, call drive.mount(\"/content/gdrive/\", force_remount=True).\n"
          ],
          "name": "stdout"
        }
      ]
    },
    {
      "cell_type": "markdown",
      "metadata": {
        "id": "gGUx19XdF1pN"
      },
      "source": [
        "These are the collections we want to download."
      ]
    },
    {
      "cell_type": "code",
      "metadata": {
        "colab": {
          "base_uri": "https://localhost:8080/"
        },
        "id": "aSB3dIWG_H2H",
        "outputId": "ae4dfe64-188b-4c35-8d5a-e4c725c58f2c"
      },
      "source": [
        "collections = [\n",
        "    'ref_south_africa_crops_competition_v1_train_labels',\n",
        "    'ref_south_africa_crops_competition_v1_train_source_s1', \n",
        "    'ref_south_africa_crops_competition_v1_train_source_s2',\n",
        "    'ref_south_africa_crops_competition_v1_test_labels',\n",
        "    'ref_south_africa_crops_competition_v1_test_source_s1',\n",
        "    'ref_south_africa_crops_competition_v1_test_source_s2'\n",
        "]"
      ],
      "execution_count": null,
      "outputs": [
        {
          "output_type": "execute_result",
          "data": {
            "text/plain": [
              "['ref_south_africa_crops_competition_v1_train_labels.tar.gz',\n",
              " 'ref_south_africa_crops_competition_v1_train_source_s1.tar.gz',\n",
              " 'ref_south_africa_crops_competition_v1_train_source_s2.tar.gz']"
            ]
          },
          "metadata": {
            "tags": []
          },
          "execution_count": 8
        }
      ]
    },
    {
      "cell_type": "code",
      "metadata": {
        "id": "G0-gkwMcF6JN",
        "colab": {
          "base_uri": "https://localhost:8080/"
        },
        "outputId": "5ab14824-6f68-4ee9-c913-d6f8041671e0"
      },
      "source": [
        "ask = input(\"This will download a lot of data, are you sure you want to do this? (y/n)\")\n",
        "if ask.lower() == \"y\":\n",
        "  for collection_name in collections:\n",
        "    dataset = Collection.fetch(collection_name)\n",
        "    dataset.download('/content/gdrive/My Drive/CropClassification/')"
      ],
      "execution_count": null,
      "outputs": [
        {
          "output_type": "stream",
          "text": [
            "This will download a lot of data, are you sure you want to do this? (y/n)n\n"
          ],
          "name": "stdout"
        }
      ]
    }
  ]
}