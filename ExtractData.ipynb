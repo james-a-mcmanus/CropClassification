{
  "nbformat": 4,
  "nbformat_minor": 0,
  "metadata": {
    "colab": {
      "name": "ExtractData.ipynb",
      "provenance": [],
      "authorship_tag": "ABX9TyM5IlgeUXBndF9jZMWKJCQS",
      "include_colab_link": true
    },
    "kernelspec": {
      "name": "python3",
      "display_name": "Python 3"
    },
    "language_info": {
      "name": "python"
    }
  },
  "cells": [
    {
      "cell_type": "markdown",
      "metadata": {
        "id": "view-in-github",
        "colab_type": "text"
      },
      "source": [
        "<a href=\"https://colab.research.google.com/github/james-a-mcmanus/CropClassification/blob/DescribingData/ExtractData.ipynb\" target=\"_parent\"><img src=\"https://colab.research.google.com/assets/colab-badge.svg\" alt=\"Open In Colab\"/></a>"
      ]
    },
    {
      "cell_type": "code",
      "metadata": {
        "id": "bL4QysdSSPMX",
        "colab": {
          "base_uri": "https://localhost:8080/"
        },
        "outputId": "9913d71c-cd31-4ee7-ac5e-9ecbb85fe81f"
      },
      "source": [
        "import tarfile\n",
        "import os\n",
        "from google.colab import drive\n",
        "drive.mount(\"/content/gdrive/\")\n",
        "import time"
      ],
      "execution_count": null,
      "outputs": [
        {
          "output_type": "stream",
          "text": [
            "Mounted at /content/gdrive/\n"
          ],
          "name": "stdout"
        }
      ]
    },
    {
      "cell_type": "code",
      "metadata": {
        "colab": {
          "base_uri": "https://localhost:8080/"
        },
        "id": "-idpVyEBU9Ah",
        "outputId": "802b15d4-5e1d-46a5-9ca4-97e3d9136b1e"
      },
      "source": [
        "os.listdir(\"/content/gdrive/My Drive/CropClassification/Data/Test/\")"
      ],
      "execution_count": null,
      "outputs": [
        {
          "output_type": "execute_result",
          "data": {
            "text/plain": [
              "['ref_south_africa_crops_competition_v1_test_labels.tar.gz',\n",
              " 'ref_south_africa_crops_competition_v1_test_source_s1.tar.gz',\n",
              " 'ref_south_africa_crops_competition_v1_test_source_s2.tar.gz',\n",
              " 'ref_south_africa_crops_competition_v1_test_labels',\n",
              " 'ref_south_africa_crops_competition_v1_test_source_s1',\n",
              " 'ref_south_africa_crops_competition_v1_test_source_s2']"
            ]
          },
          "metadata": {
            "tags": []
          },
          "execution_count": 2
        }
      ]
    },
    {
      "cell_type": "code",
      "metadata": {
        "id": "1JZI-_sYVhp1"
      },
      "source": [
        "trainsource1 = '/content/gdrive/My Drive/CropClassification/Data/Train/train_source_s1/ref_south_africa_crops_competition_v1_train_source_s1'\n",
        "testlabels1 = '/content/gdrive/My Drive/CropClassification/Data/Test/ref_south_africa_crops_competition_v1_test_labels.tar.gz'"
      ],
      "execution_count": null,
      "outputs": []
    },
    {
      "cell_type": "code",
      "metadata": {
        "id": "je6rnDzZVm7S"
      },
      "source": [
        "def extract(path_to, removeafter = False):\n",
        "  # extract all from folder\n",
        "  if os.path.isdir(path_to):\n",
        "    for path, directories, files in os.walk(path_to):\n",
        "      for f in files:\n",
        "          if f.endswith(\".tar.gz\"):\n",
        "              tar = tarfile.open(os.path.join(path,f), 'r:gz')\n",
        "              tar.extractall(path=path)\n",
        "              tar.close()\n",
        "  # extract specific file.\n",
        "  if os.path.isfile(path_to):\n",
        "    tar = tarfile.open(path_to, \"r:gz\")\n",
        "    tar.extractall(path=os.path.dirname(path_to))\n",
        "    tar.close()\n",
        "    # delete file\n",
        "    if removeafter:\n",
        "      os.remove(path_to)"
      ],
      "execution_count": null,
      "outputs": []
    },
    {
      "cell_type": "code",
      "metadata": {
        "id": "wopFyjB8V8Xf"
      },
      "source": [
        "extract(testlabels1, removeafter=False)"
      ],
      "execution_count": null,
      "outputs": []
    },
    {
      "cell_type": "code",
      "metadata": {
        "id": "GL_WDYszYFwF"
      },
      "source": [
        "t1 = time.time()\n",
        "extract('/content/gdrive/My Drive/CropClassification/Data/Test/ref_south_africa_crops_competition_v1_test_source_s2.tar.gz', removeafter=False)\n",
        "t2 = time.time()\n",
        "print(f'that took: {t2 - t1} seconds')"
      ],
      "execution_count": null,
      "outputs": []
    }
  ]
}